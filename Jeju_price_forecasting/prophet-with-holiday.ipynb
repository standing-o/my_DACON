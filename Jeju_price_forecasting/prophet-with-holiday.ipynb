{
 "cells": [
  {
   "cell_type": "markdown",
   "id": "d60a5bd4",
   "metadata": {},
   "source": [
    "- Base Code: https://dacon.io/competitions/official/236176/codeshare/9170?page=1&dtype=recent"
   ]
  },
  {
   "cell_type": "code",
   "execution_count": 9,
   "id": "513a6441",
   "metadata": {
    "ExecuteTime": {
     "end_time": "2023-11-09T00:29:51.406488Z",
     "start_time": "2023-11-09T00:29:51.403354Z"
    }
   },
   "outputs": [],
   "source": [
    "import pandas as pd\n",
    "import numpy as np\n",
    "import matplotlib.pyplot as plt\n",
    "import seaborn as sns\n",
    "import random\n",
    "\n",
    "from prophet import Prophet\n",
    "import holidays"
   ]
  },
  {
   "cell_type": "code",
   "execution_count": 5,
   "id": "20582dbb",
   "metadata": {
    "ExecuteTime": {
     "end_time": "2023-11-09T00:21:01.413323Z",
     "start_time": "2023-11-09T00:21:01.409327Z"
    }
   },
   "outputs": [],
   "source": [
    "seed_num = 42\n",
    "random.seed(seed_num)\n",
    "np.random.seed(seed_num)"
   ]
  },
  {
   "cell_type": "code",
   "execution_count": 2,
   "id": "e73cb1fc",
   "metadata": {
    "ExecuteTime": {
     "end_time": "2023-11-09T00:20:24.461249Z",
     "start_time": "2023-11-09T00:20:24.413270Z"
    }
   },
   "outputs": [],
   "source": [
    "submission_df = pd.read_csv('dataset/sample_submission.csv')\n",
    "train = pd.read_csv('dataset/train.csv')\n",
    "test = pd.read_csv('dataset/test.csv')"
   ]
  },
  {
   "cell_type": "code",
   "execution_count": 3,
   "id": "bb1a3d0e",
   "metadata": {
    "ExecuteTime": {
     "end_time": "2023-11-09T00:20:30.727002Z",
     "start_time": "2023-11-09T00:20:30.683563Z"
    }
   },
   "outputs": [],
   "source": [
    "prophet_data = train.rename(columns={'timestamp': 'ds', 'price(원/kg)': 'y'})\n",
    "prophet_data = prophet_data[['ID', 'ds', 'y']]\n",
    "prophet_data['ID'] = prophet_data['ID'].str.replace(r'_\\d{8}$', '', regex=True)"
   ]
  },
  {
   "cell_type": "code",
   "execution_count": 12,
   "id": "54ea7955",
   "metadata": {
    "ExecuteTime": {
     "end_time": "2023-11-09T00:31:03.083157Z",
     "start_time": "2023-11-09T00:31:03.077451Z"
    }
   },
   "outputs": [
    {
     "data": {
      "text/plain": [
       "0        2019-01-01\n",
       "1        2019-01-02\n",
       "2        2019-01-03\n",
       "3        2019-01-04\n",
       "4        2019-01-05\n",
       "            ...    \n",
       "59392    2023-02-27\n",
       "59393    2023-02-28\n",
       "59394    2023-03-01\n",
       "59395    2023-03-02\n",
       "59396    2023-03-03\n",
       "Name: ds, Length: 59397, dtype: object"
      ]
     },
     "execution_count": 12,
     "metadata": {},
     "output_type": "execute_result"
    }
   ],
   "source": [
    "prophet_data['ds']"
   ]
  },
  {
   "cell_type": "code",
   "execution_count": null,
   "id": "12151ade",
   "metadata": {},
   "outputs": [],
   "source": [
    "holiday = pd.DataFrame([])\n",
    "for date, name in sorted(holidays.UnitedStates(years=[2018,2019,2020]).items()):\n",
    "    holiday = holiday.append(pd.DataFrame({'ds': date, 'holiday': \"US-Holidays\"}, index=[0]), ignore_index=True)\n",
    "holiday['ds'] = pd.to_datetime(holiday['ds'], format='%Y-%m-%d', errors='ignore')"
   ]
  },
  {
   "cell_type": "code",
   "execution_count": 14,
   "id": "a1ee2f01",
   "metadata": {
    "ExecuteTime": {
     "end_time": "2023-11-09T00:32:15.954672Z",
     "start_time": "2023-11-09T00:32:15.861630Z"
    }
   },
   "outputs": [
    {
     "name": "stdout",
     "output_type": "stream",
     "text": [
      "           ds          holiday\n",
      "0  2019-01-01  Korean-Holidays\n",
      "1  2019-02-04  Korean-Holidays\n",
      "2  2019-02-05  Korean-Holidays\n",
      "3  2019-02-06  Korean-Holidays\n",
      "4  2019-03-01  Korean-Holidays\n",
      "..        ...              ...\n",
      "84 2023-09-29  Korean-Holidays\n",
      "85 2023-09-30  Korean-Holidays\n",
      "86 2023-10-03  Korean-Holidays\n",
      "87 2023-10-09  Korean-Holidays\n",
      "88 2023-12-25  Korean-Holidays\n",
      "\n",
      "[89 rows x 2 columns]\n"
     ]
    }
   ],
   "source": [
    "holiday = pd.DataFrame()\n",
    "for year in range(2019, 2024):\n",
    "    korean_holidays = holidays.Korea(years=year)\n",
    "\n",
    "    for date, name in sorted(korean_holidays.items()):\n",
    "        holiday = pd.concat([holiday, pd.DataFrame({'ds': pd.to_datetime(date), 'holiday': \"Korean-Holidays\"}, index=[0])], ignore_index=True)\n",
    "\n",
    "holiday['ds'] = pd.to_datetime(holiday['ds'], format='%Y-%m-%d', errors='ignore')\n",
    "print(holiday)"
   ]
  },
  {
   "cell_type": "code",
   "execution_count": 15,
   "id": "a9dd54e6",
   "metadata": {
    "ExecuteTime": {
     "end_time": "2023-11-09T00:34:09.798569Z",
     "start_time": "2023-11-09T00:34:09.790571Z"
    }
   },
   "outputs": [
    {
     "name": "stdout",
     "output_type": "stream",
     "text": [
      "Total Possible Models 150\n"
     ]
    }
   ],
   "source": [
    "from sklearn.model_selection import ParameterGrid\n",
    "params_grid = {'seasonality_mode':('multiplicative','additive'),\n",
    "               'changepoint_prior_scale':[0.1,0.2,0.3,0.4,0.5],\n",
    "              'holidays_prior_scale':[0.1,0.2,0.3,0.4,0.5],\n",
    "              'n_changepoints' : [100,150,200]}\n",
    "grid = ParameterGrid(params_grid)\n",
    "cnt = 0\n",
    "for p in grid:\n",
    "    cnt = cnt+1\n",
    "\n",
    "print('Total Possible Models',cnt)"
   ]
  },
  {
   "cell_type": "code",
   "execution_count": 20,
   "id": "4bf1c8d2",
   "metadata": {
    "ExecuteTime": {
     "end_time": "2023-11-09T00:39:59.018482Z",
     "start_time": "2023-11-09T00:36:34.974393Z"
    }
   },
   "outputs": [
    {
     "name": "stdout",
     "output_type": "stream",
     "text": [
      "TG_A_J\n"
     ]
    },
    {
     "name": "stderr",
     "output_type": "stream",
     "text": [
      "INFO:cmdstanpy:start chain 1\n",
      "INFO:cmdstanpy:finish chain 1\n"
     ]
    },
    {
     "name": "stdout",
     "output_type": "stream",
     "text": [
      "TG_A_S\n"
     ]
    },
    {
     "name": "stderr",
     "output_type": "stream",
     "text": [
      "INFO:cmdstanpy:start chain 1\n",
      "INFO:cmdstanpy:finish chain 1\n"
     ]
    },
    {
     "name": "stdout",
     "output_type": "stream",
     "text": [
      "TG_B_J\n"
     ]
    },
    {
     "name": "stderr",
     "output_type": "stream",
     "text": [
      "INFO:cmdstanpy:start chain 1\n",
      "INFO:cmdstanpy:finish chain 1\n"
     ]
    },
    {
     "name": "stdout",
     "output_type": "stream",
     "text": [
      "TG_B_S\n"
     ]
    },
    {
     "name": "stderr",
     "output_type": "stream",
     "text": [
      "INFO:cmdstanpy:start chain 1\n",
      "INFO:cmdstanpy:finish chain 1\n"
     ]
    },
    {
     "name": "stdout",
     "output_type": "stream",
     "text": [
      "TG_C_J\n"
     ]
    },
    {
     "name": "stderr",
     "output_type": "stream",
     "text": [
      "INFO:cmdstanpy:start chain 1\n",
      "INFO:cmdstanpy:finish chain 1\n"
     ]
    },
    {
     "name": "stdout",
     "output_type": "stream",
     "text": [
      "TG_C_S\n"
     ]
    },
    {
     "name": "stderr",
     "output_type": "stream",
     "text": [
      "INFO:cmdstanpy:start chain 1\n",
      "INFO:cmdstanpy:finish chain 1\n"
     ]
    },
    {
     "name": "stdout",
     "output_type": "stream",
     "text": [
      "TG_D_J\n"
     ]
    },
    {
     "name": "stderr",
     "output_type": "stream",
     "text": [
      "INFO:cmdstanpy:start chain 1\n",
      "INFO:cmdstanpy:finish chain 1\n"
     ]
    },
    {
     "name": "stdout",
     "output_type": "stream",
     "text": [
      "TG_D_S\n"
     ]
    },
    {
     "name": "stderr",
     "output_type": "stream",
     "text": [
      "INFO:cmdstanpy:start chain 1\n",
      "INFO:cmdstanpy:finish chain 1\n"
     ]
    },
    {
     "name": "stdout",
     "output_type": "stream",
     "text": [
      "TG_E_J\n"
     ]
    },
    {
     "name": "stderr",
     "output_type": "stream",
     "text": [
      "INFO:cmdstanpy:start chain 1\n",
      "INFO:cmdstanpy:finish chain 1\n"
     ]
    },
    {
     "name": "stdout",
     "output_type": "stream",
     "text": [
      "TG_E_S\n"
     ]
    },
    {
     "name": "stderr",
     "output_type": "stream",
     "text": [
      "INFO:cmdstanpy:start chain 1\n",
      "INFO:cmdstanpy:finish chain 1\n"
     ]
    },
    {
     "name": "stdout",
     "output_type": "stream",
     "text": [
      "CR_A_J\n"
     ]
    },
    {
     "name": "stderr",
     "output_type": "stream",
     "text": [
      "INFO:cmdstanpy:start chain 1\n",
      "INFO:cmdstanpy:finish chain 1\n"
     ]
    },
    {
     "name": "stdout",
     "output_type": "stream",
     "text": [
      "CR_B_J\n"
     ]
    },
    {
     "name": "stderr",
     "output_type": "stream",
     "text": [
      "INFO:cmdstanpy:start chain 1\n",
      "INFO:cmdstanpy:finish chain 1\n"
     ]
    },
    {
     "name": "stdout",
     "output_type": "stream",
     "text": [
      "CR_C_J\n"
     ]
    },
    {
     "name": "stderr",
     "output_type": "stream",
     "text": [
      "INFO:cmdstanpy:start chain 1\n",
      "INFO:cmdstanpy:finish chain 1\n"
     ]
    },
    {
     "name": "stdout",
     "output_type": "stream",
     "text": [
      "CR_D_J\n"
     ]
    },
    {
     "name": "stderr",
     "output_type": "stream",
     "text": [
      "INFO:cmdstanpy:start chain 1\n",
      "INFO:cmdstanpy:finish chain 1\n"
     ]
    },
    {
     "name": "stdout",
     "output_type": "stream",
     "text": [
      "CR_D_S\n"
     ]
    },
    {
     "name": "stderr",
     "output_type": "stream",
     "text": [
      "INFO:cmdstanpy:start chain 1\n",
      "INFO:cmdstanpy:finish chain 1\n"
     ]
    },
    {
     "name": "stdout",
     "output_type": "stream",
     "text": [
      "CR_E_J\n"
     ]
    },
    {
     "name": "stderr",
     "output_type": "stream",
     "text": [
      "INFO:cmdstanpy:start chain 1\n",
      "INFO:cmdstanpy:finish chain 1\n"
     ]
    },
    {
     "name": "stdout",
     "output_type": "stream",
     "text": [
      "CR_E_S\n"
     ]
    },
    {
     "name": "stderr",
     "output_type": "stream",
     "text": [
      "INFO:cmdstanpy:start chain 1\n",
      "INFO:cmdstanpy:finish chain 1\n"
     ]
    },
    {
     "name": "stdout",
     "output_type": "stream",
     "text": [
      "CB_A_J\n"
     ]
    },
    {
     "name": "stderr",
     "output_type": "stream",
     "text": [
      "INFO:cmdstanpy:start chain 1\n",
      "INFO:cmdstanpy:finish chain 1\n"
     ]
    },
    {
     "name": "stdout",
     "output_type": "stream",
     "text": [
      "CB_A_S\n"
     ]
    },
    {
     "name": "stderr",
     "output_type": "stream",
     "text": [
      "INFO:cmdstanpy:start chain 1\n",
      "INFO:cmdstanpy:finish chain 1\n"
     ]
    },
    {
     "name": "stdout",
     "output_type": "stream",
     "text": [
      "CB_D_J\n"
     ]
    },
    {
     "name": "stderr",
     "output_type": "stream",
     "text": [
      "INFO:cmdstanpy:start chain 1\n",
      "INFO:cmdstanpy:finish chain 1\n"
     ]
    },
    {
     "name": "stdout",
     "output_type": "stream",
     "text": [
      "CB_E_J\n"
     ]
    },
    {
     "name": "stderr",
     "output_type": "stream",
     "text": [
      "INFO:cmdstanpy:start chain 1\n",
      "INFO:cmdstanpy:finish chain 1\n"
     ]
    },
    {
     "name": "stdout",
     "output_type": "stream",
     "text": [
      "RD_A_J\n"
     ]
    },
    {
     "name": "stderr",
     "output_type": "stream",
     "text": [
      "INFO:cmdstanpy:start chain 1\n",
      "INFO:cmdstanpy:finish chain 1\n"
     ]
    },
    {
     "name": "stdout",
     "output_type": "stream",
     "text": [
      "RD_A_S\n"
     ]
    },
    {
     "name": "stderr",
     "output_type": "stream",
     "text": [
      "INFO:cmdstanpy:start chain 1\n",
      "INFO:cmdstanpy:finish chain 1\n"
     ]
    },
    {
     "name": "stdout",
     "output_type": "stream",
     "text": [
      "RD_C_S\n"
     ]
    },
    {
     "name": "stderr",
     "output_type": "stream",
     "text": [
      "INFO:cmdstanpy:start chain 1\n",
      "INFO:cmdstanpy:finish chain 1\n"
     ]
    },
    {
     "name": "stdout",
     "output_type": "stream",
     "text": [
      "RD_D_J\n"
     ]
    },
    {
     "name": "stderr",
     "output_type": "stream",
     "text": [
      "INFO:cmdstanpy:start chain 1\n",
      "INFO:cmdstanpy:finish chain 1\n"
     ]
    },
    {
     "name": "stdout",
     "output_type": "stream",
     "text": [
      "RD_D_S\n"
     ]
    },
    {
     "name": "stderr",
     "output_type": "stream",
     "text": [
      "INFO:cmdstanpy:start chain 1\n",
      "INFO:cmdstanpy:finish chain 1\n"
     ]
    },
    {
     "name": "stdout",
     "output_type": "stream",
     "text": [
      "RD_E_J\n"
     ]
    },
    {
     "name": "stderr",
     "output_type": "stream",
     "text": [
      "INFO:cmdstanpy:start chain 1\n",
      "INFO:cmdstanpy:finish chain 1\n"
     ]
    },
    {
     "name": "stdout",
     "output_type": "stream",
     "text": [
      "RD_E_S\n"
     ]
    },
    {
     "name": "stderr",
     "output_type": "stream",
     "text": [
      "INFO:cmdstanpy:start chain 1\n",
      "INFO:cmdstanpy:finish chain 1\n"
     ]
    },
    {
     "name": "stdout",
     "output_type": "stream",
     "text": [
      "BC_A_J\n"
     ]
    },
    {
     "name": "stderr",
     "output_type": "stream",
     "text": [
      "INFO:cmdstanpy:start chain 1\n",
      "INFO:cmdstanpy:finish chain 1\n"
     ]
    },
    {
     "name": "stdout",
     "output_type": "stream",
     "text": [
      "BC_A_S\n"
     ]
    },
    {
     "name": "stderr",
     "output_type": "stream",
     "text": [
      "INFO:cmdstanpy:start chain 1\n",
      "INFO:cmdstanpy:finish chain 1\n"
     ]
    },
    {
     "name": "stdout",
     "output_type": "stream",
     "text": [
      "BC_B_J\n"
     ]
    },
    {
     "name": "stderr",
     "output_type": "stream",
     "text": [
      "INFO:cmdstanpy:start chain 1\n",
      "INFO:cmdstanpy:finish chain 1\n"
     ]
    },
    {
     "name": "stdout",
     "output_type": "stream",
     "text": [
      "BC_B_S\n"
     ]
    },
    {
     "name": "stderr",
     "output_type": "stream",
     "text": [
      "INFO:cmdstanpy:start chain 1\n",
      "INFO:cmdstanpy:finish chain 1\n"
     ]
    },
    {
     "name": "stdout",
     "output_type": "stream",
     "text": [
      "BC_C_J\n"
     ]
    },
    {
     "name": "stderr",
     "output_type": "stream",
     "text": [
      "INFO:cmdstanpy:start chain 1\n",
      "INFO:cmdstanpy:finish chain 1\n"
     ]
    },
    {
     "name": "stdout",
     "output_type": "stream",
     "text": [
      "BC_C_S\n"
     ]
    },
    {
     "name": "stderr",
     "output_type": "stream",
     "text": [
      "INFO:cmdstanpy:start chain 1\n",
      "INFO:cmdstanpy:finish chain 1\n"
     ]
    },
    {
     "name": "stdout",
     "output_type": "stream",
     "text": [
      "BC_D_J\n"
     ]
    },
    {
     "name": "stderr",
     "output_type": "stream",
     "text": [
      "INFO:cmdstanpy:start chain 1\n",
      "INFO:cmdstanpy:finish chain 1\n"
     ]
    },
    {
     "name": "stdout",
     "output_type": "stream",
     "text": [
      "BC_E_J\n"
     ]
    },
    {
     "name": "stderr",
     "output_type": "stream",
     "text": [
      "INFO:cmdstanpy:start chain 1\n",
      "INFO:cmdstanpy:finish chain 1\n"
     ]
    },
    {
     "name": "stdout",
     "output_type": "stream",
     "text": [
      "BC_E_S\n"
     ]
    },
    {
     "name": "stderr",
     "output_type": "stream",
     "text": [
      "INFO:cmdstanpy:start chain 1\n",
      "INFO:cmdstanpy:finish chain 1\n"
     ]
    },
    {
     "name": "stdout",
     "output_type": "stream",
     "text": [
      "CB_F_J\n"
     ]
    },
    {
     "name": "stderr",
     "output_type": "stream",
     "text": [
      "INFO:cmdstanpy:start chain 1\n",
      "INFO:cmdstanpy:finish chain 1\n"
     ]
    },
    {
     "name": "stdout",
     "output_type": "stream",
     "text": [
      "RD_F_J\n"
     ]
    },
    {
     "name": "stderr",
     "output_type": "stream",
     "text": [
      "INFO:cmdstanpy:start chain 1\n",
      "INFO:cmdstanpy:finish chain 1\n"
     ]
    }
   ],
   "source": [
    "pred_list = []  \n",
    "for code in prophet_data['ID'].unique():\n",
    "    print(code)\n",
    "    d = prophet_data[prophet_data['ID'] == code].reset_index().drop(['ID'], axis=1).sort_values('ds')\n",
    "    model = Prophet(changepoint_prior_scale = 0.3,\n",
    "                    holidays_prior_scale = 0.3,\n",
    "                    n_changepoints = 150,\n",
    "                    seasonality_mode = 'multiplicative',\n",
    "                    yearly_seasonality = True,\n",
    "                    weekly_seasonality = True,\n",
    "                    daily_seasonality = True,\n",
    "                    holidays = holiday,\n",
    "                    interval_width=0.95)\n",
    "    model.add_country_holidays(country_name='Korea')\n",
    "    \n",
    "    model.fit(d)\n",
    "    \n",
    "    future = pd.DataFrame()\n",
    "    future['ds'] = pd.date_range(start='2023-03-04', periods=28, freq='D') \n",
    "    forecast = model.predict(future)\n",
    "    \n",
    "    pred_y = forecast['yhat'].values\n",
    "    pred_code = [str(code)] * len(pred_y)\n",
    "    \n",
    "    for y_val, id_val in zip(pred_y, pred_code):\n",
    "        pred_list.append({'ID': id_val, 'y': y_val})\n",
    "        \n",
    "pred = pd.DataFrame(pred_list) "
   ]
  },
  {
   "cell_type": "code",
   "execution_count": 21,
   "id": "b881a582",
   "metadata": {
    "ExecuteTime": {
     "end_time": "2023-11-09T00:39:59.036013Z",
     "start_time": "2023-11-09T00:39:59.019358Z"
    }
   },
   "outputs": [],
   "source": [
    "submission_df['answer'] = pred['y']\n",
    "submission_df.to_csv('prophet_with_holiday.csv',index=False)"
   ]
  }
 ],
 "metadata": {
  "kernelspec": {
   "display_name": "tf_gpu29",
   "language": "python",
   "name": "tf_gpu29"
  },
  "language_info": {
   "codemirror_mode": {
    "name": "ipython",
    "version": 3
   },
   "file_extension": ".py",
   "mimetype": "text/x-python",
   "name": "python",
   "nbconvert_exporter": "python",
   "pygments_lexer": "ipython3",
   "version": "3.8.16"
  }
 },
 "nbformat": 4,
 "nbformat_minor": 5
}
